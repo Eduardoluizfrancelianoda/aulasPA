{
  "nbformat": 4,
  "nbformat_minor": 0,
  "metadata": {
    "colab": {
      "provenance": [],
      "authorship_tag": "ABX9TyO7Ih9I4WM9xJoZA6beqeMO",
      "include_colab_link": true
    },
    "kernelspec": {
      "name": "python3",
      "display_name": "Python 3"
    },
    "language_info": {
      "name": "python"
    }
  },
  "cells": [
    {
      "cell_type": "markdown",
      "metadata": {
        "id": "view-in-github",
        "colab_type": "text"
      },
      "source": [
        "<a href=\"https://colab.research.google.com/github/Eduardoluizfrancelianoda/aulasPA/blob/main/estruturas_de_repeti%C3%A7%C3%A3o.ipynb\" target=\"_parent\"><img src=\"https://colab.research.google.com/assets/colab-badge.svg\" alt=\"Open In Colab\"/></a>"
      ]
    },
    {
      "cell_type": "code",
      "execution_count": 9,
      "metadata": {
        "colab": {
          "base_uri": "https://localhost:8080/"
        },
        "id": "zAwphfFFYdCo",
        "outputId": "6df6909f-db65-474b-d9f3-0776f26dd731"
      },
      "outputs": [
        {
          "output_type": "stream",
          "name": "stdout",
          "text": [
            "1 bom dia\n",
            "2 bom dia\n",
            "3 bom dia\n",
            "4 bom dia\n",
            "5 bom dia\n",
            "6 bom dia\n",
            "7 bom dia\n",
            "8 bom dia\n",
            "9 bom dia\n",
            "10 bom dia\n"
          ]
        }
      ],
      "source": [
        "for i in range(10):\n",
        "  print(i + 1,\"bom dia\")\n"
      ]
    },
    {
      "cell_type": "code",
      "source": [
        "#mostrar todos os numeros impares de 1 a 30\n",
        "for i in range(1,31):\n",
        "  if i%2 == 0:\n",
        "    print(i)\n"
      ],
      "metadata": {
        "colab": {
          "base_uri": "https://localhost:8080/"
        },
        "id": "eXgPzWTqbiVc",
        "outputId": "74ce465e-8470-45f2-f812-7e6219c92fbe"
      },
      "execution_count": 12,
      "outputs": [
        {
          "output_type": "stream",
          "name": "stdout",
          "text": [
            "2\n",
            "4\n",
            "6\n",
            "8\n",
            "10\n",
            "12\n",
            "14\n",
            "16\n",
            "18\n",
            "20\n",
            "22\n",
            "24\n",
            "26\n",
            "28\n",
            "30\n"
          ]
        }
      ]
    },
    {
      "cell_type": "code",
      "source": [
        "#contador de um numero inicial e um numero final digitados pelo usuario\n",
        "\n",
        "inicio= int(input(\"1ro numero\"))\n",
        "fim= int(input(\"2do numero\"))\n",
        "\n",
        "if inicio>fim:\n",
        "  #aux= inicio\n",
        "  #inicio= fim\n",
        "  #fim= aux\n",
        "  inicio,fim=fim,inicio\n",
        "\n",
        "for x in range (inicio,fim+1):\n",
        "  if x%2==0:\n",
        "    print(x)"
      ],
      "metadata": {
        "colab": {
          "base_uri": "https://localhost:8080/"
        },
        "id": "mzIwRbwzfw3T",
        "outputId": "296196ae-849c-4d5d-9c79-379d3c8afdb9"
      },
      "execution_count": 18,
      "outputs": [
        {
          "output_type": "stream",
          "name": "stdout",
          "text": [
            "1ro numero40\n",
            "2do numero10\n",
            "10\n",
            "12\n",
            "14\n",
            "16\n",
            "18\n",
            "20\n",
            "22\n",
            "24\n",
            "26\n",
            "28\n",
            "30\n",
            "32\n",
            "34\n",
            "36\n",
            "38\n",
            "40\n"
          ]
        }
      ]
    },
    {
      "cell_type": "code",
      "source": [
        "#some todos os numeros de um a 10\n",
        "\n",
        "soma=0\n",
        "for a in range(1,101):\n",
        "  if a%2==1:\n",
        "    soma=soma+a\n",
        "\n",
        "print(\"total=>\", soma)"
      ],
      "metadata": {
        "colab": {
          "base_uri": "https://localhost:8080/"
        },
        "id": "BHdo8NrijXF1",
        "outputId": "c0d2eb66-7e0f-46c7-9493-529a8dfb1c7e"
      },
      "execution_count": 34,
      "outputs": [
        {
          "output_type": "stream",
          "name": "stdout",
          "text": [
            "total=> 2500\n"
          ]
        }
      ]
    },
    {
      "cell_type": "code",
      "source": [
        "#contador de 1 a 10 com while\n",
        "\n",
        "numero= 1\n",
        "while (numero<=10):\n",
        "  numero += 1\n",
        "  print(numero)"
      ],
      "metadata": {
        "colab": {
          "base_uri": "https://localhost:8080/"
        },
        "id": "jiyq4BLOoCps",
        "outputId": "456523ce-8d42-47dc-bee7-bbbeb44ed386"
      },
      "execution_count": 2,
      "outputs": [
        {
          "output_type": "stream",
          "name": "stdout",
          "text": [
            "2\n",
            "3\n",
            "4\n",
            "5\n",
            "6\n",
            "7\n",
            "8\n",
            "9\n",
            "10\n",
            "11\n"
          ]
        }
      ]
    },
    {
      "cell_type": "code",
      "source": [
        "#digite numeros até que o usuario digite 0\n",
        "numero= int(input(\"digite um numero \"))\n",
        "while numero != 0:\n",
        "  numero= int(input(\"digite um numero \"))"
      ],
      "metadata": {
        "id": "-TTO1MH6pxqL",
        "outputId": "6f98ccef-1187-424d-9f02-a938f7067b37",
        "colab": {
          "base_uri": "https://localhost:8080/"
        }
      },
      "execution_count": 4,
      "outputs": [
        {
          "name": "stdout",
          "output_type": "stream",
          "text": [
            "digite um numero 2\n",
            "digite um numero 2\n",
            "digite um numero 2\n",
            "digite um numero 2\n",
            "digite um numero 2\n",
            "digite um numero 90\n",
            "digite um numero 0\n"
          ]
        }
      ]
    },
    {
      "cell_type": "code",
      "source": [
        "#somar numeros até que o usuario digite 0\n",
        "\n",
        "numero= int(input(\"digite um numero \"))\n",
        "soma= numero\n",
        "while numero != 0:\n",
        "  numero= int(input(\"digite um numero \"))\n",
        "  soma += numero\n",
        "\n",
        "  print(\"total = \",soma)"
      ],
      "metadata": {
        "id": "BIJ7bQ8HxNIo",
        "outputId": "f3dd662a-b82c-4460-a972-6269aace7d4f",
        "colab": {
          "base_uri": "https://localhost:8080/"
        }
      },
      "execution_count": 5,
      "outputs": [
        {
          "output_type": "stream",
          "name": "stdout",
          "text": [
            "digite um numero 4\n",
            "digite um numero 3\n",
            "total =  7\n",
            "digite um numero 7\n",
            "total =  14\n",
            "digite um numero 7\n",
            "total =  21\n",
            "digite um numero 0\n",
            "total =  21\n"
          ]
        }
      ]
    },
    {
      "cell_type": "code",
      "source": [
        "#menu de opções\n",
        "opcao=0\n",
        "while opcao != 4:\n",
        "  print(\"escolha uma opção\")\n",
        "  print(\"digite 1 para opção 1\")\n",
        "  print(\"digite 2 para opção 2\")\n",
        "  print(\"digite 3 para opção 3\")\n",
        "  print(\"digite 4 para sair\")\n",
        "  opcao= int(input(\"sua opção é: \"))\n",
        "\n",
        "  if opcao == 1:\n",
        "    print(\"voce escolheu a opção 1\")\n",
        "  if opcao == 2:\n",
        "    print(\"voce escolheu a opção 2\")\n",
        "  if opcao == 3:\n",
        "    print(\"voce escolheu a opção 3\")\n"
      ],
      "metadata": {
        "id": "fr7fDrj6z94g",
        "outputId": "5bd8449c-885c-46e5-f37a-0ca0d45d25cf",
        "colab": {
          "base_uri": "https://localhost:8080/"
        }
      },
      "execution_count": 7,
      "outputs": [
        {
          "name": "stdout",
          "output_type": "stream",
          "text": [
            "escolha uma opção\n",
            "digite 1 para opção 1\n",
            "digite 2 para opção 2\n",
            "digite 3 para opção 3\n",
            "digite 4 para sair\n",
            "sua opção é: 2\n",
            "voce escolheu a opção 2\n",
            "escolha uma opção\n",
            "digite 1 para opção 1\n",
            "digite 2 para opção 2\n",
            "digite 3 para opção 3\n",
            "digite 4 para sair\n",
            "sua opção é: 4\n"
          ]
        }
      ]
    }
  ]
}