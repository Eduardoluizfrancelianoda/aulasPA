{
  "nbformat": 4,
  "nbformat_minor": 0,
  "metadata": {
    "colab": {
      "provenance": [],
      "authorship_tag": "ABX9TyPGwqQLbM/Ky4vis1vGBimY",
      "include_colab_link": true
    },
    "kernelspec": {
      "name": "python3",
      "display_name": "Python 3"
    },
    "language_info": {
      "name": "python"
    }
  },
  "cells": [
    {
      "cell_type": "markdown",
      "metadata": {
        "id": "view-in-github",
        "colab_type": "text"
      },
      "source": [
        "<a href=\"https://colab.research.google.com/github/Eduardoluizfrancelianoda/aulasPA/blob/main/desafio_triangulo_logico.ipynb\" target=\"_parent\"><img src=\"https://colab.research.google.com/assets/colab-badge.svg\" alt=\"Open In Colab\"/></a>"
      ]
    },
    {
      "cell_type": "code",
      "execution_count": 6,
      "metadata": {
        "colab": {
          "base_uri": "https://localhost:8080/"
        },
        "id": "Ms6DmopMSzSw",
        "outputId": "0f949da0-354b-43b7-8b9e-91d7c60c58d7"
      },
      "outputs": [
        {
          "output_type": "stream",
          "name": "stdout",
          "text": [
            "lado 1 do triangulo 23\n",
            "lado 2 do triangulo 21\n",
            "lado 3 do triangulo 24\n",
            "\n",
            "é um triangulo?  True\n",
            "é um triangulo equilatero?  False\n",
            "é um triangulo escaleno True\n",
            "é um triangulo isosceles False\n"
          ]
        }
      ],
      "source": [
        "a= int(input(\"lado 1 do triangulo \"))\n",
        "b= int(input(\"lado 2 do triangulo \"))\n",
        "c= int(input(\"lado 3 do triangulo \"))\n",
        "\n",
        "triangulo= ((a + b > c)) and ((b+c>a)) and ((a+c>b))\n",
        "equilatero= (a==b) and (a==c) and (b==c) and (triangulo)\n",
        "escaleno= (a!=b) and (a!=c) and (b!=c) and (triangulo)\n",
        "isosceles= ((a==b) ^ (a==c) and (b!=c)) or (b==c) ^ (b==a) and (triangulo)\n",
        "print()\n",
        "print(\"é um triangulo? \",triangulo)\n",
        "print(\"é um triangulo equilatero? \",equilatero)\n",
        "print(\"é um triangulo escaleno\",escaleno)\n",
        "print(\"é um triangulo isosceles\",isosceles)"
      ]
    }
  ]
}