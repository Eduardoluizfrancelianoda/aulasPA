{
  "nbformat": 4,
  "nbformat_minor": 0,
  "metadata": {
    "colab": {
      "provenance": [],
      "authorship_tag": "ABX9TyNtEkgciXCdPkaRewQRJlTQ",
      "include_colab_link": true
    },
    "kernelspec": {
      "name": "python3",
      "display_name": "Python 3"
    },
    "language_info": {
      "name": "python"
    }
  },
  "cells": [
    {
      "cell_type": "markdown",
      "metadata": {
        "id": "view-in-github",
        "colab_type": "text"
      },
      "source": [
        "<a href=\"https://colab.research.google.com/github/Eduardoluizfrancelianoda/aulasPA/blob/main/funcoes(feito%20por%20mim).ipynb\" target=\"_parent\"><img src=\"https://colab.research.google.com/assets/colab-badge.svg\" alt=\"Open In Colab\"/></a>"
      ]
    },
    {
      "cell_type": "code",
      "execution_count": 3,
      "metadata": {
        "colab": {
          "base_uri": "https://localhost:8080/"
        },
        "id": "XwFdBkUUd4CU",
        "outputId": "e19f142d-121d-4fe1-cf52-82bdc0cbe3ce"
      },
      "outputs": [
        {
          "output_type": "stream",
          "name": "stdout",
          "text": [
            "A raiz quadrada de 9 é 3.0\n"
          ]
        }
      ],
      "source": [
        "def raiz(num):\n",
        "  raiz = num ** 0.5\n",
        "  print(f'A raiz quadrada de {num} é {raiz}')\n",
        "\n",
        "raiz(9)"
      ]
    },
    {
      "cell_type": "markdown",
      "source": [
        "função com retorno e **parametros**"
      ],
      "metadata": {
        "id": "HIy4akFkemmL"
      }
    },
    {
      "cell_type": "code",
      "source": [
        "def somar(a, b):\n",
        "  s = a + b\n",
        "  return s\n",
        "\n",
        "print(\"exemplo com retorno\")\n",
        "num1 = int(input(\"Digite um número: \"))\n",
        "num2 = int(input(\"Digite outro número: \"))\n",
        "retorno=(somar(num1, num2))\n",
        "print(retorno)"
      ],
      "metadata": {
        "colab": {
          "base_uri": "https://localhost:8080/"
        },
        "id": "i8MlYrVaeuix",
        "outputId": "2bf45217-05a0-4f8e-a11d-d849949174d7"
      },
      "execution_count": 4,
      "outputs": [
        {
          "output_type": "stream",
          "name": "stdout",
          "text": [
            "exemplo com retorno\n",
            "Digite um número: 1\n",
            "Digite outro número: 6\n",
            "7\n"
          ]
        }
      ]
    },
    {
      "cell_type": "markdown",
      "source": [
        "com base no exermplo anteriopr crie um programa que peça 3 vezes 2 numeros e utilize a função acima para soma los e exibir na tela o resultado"
      ],
      "metadata": {
        "id": "EX80fvPLgu-t"
      }
    },
    {
      "cell_type": "code",
      "source": [
        "def somar(a, b):\n",
        "  s = a + b\n",
        "  return s\n",
        "resultado=[]\n",
        "for i in range(3):\n",
        "  num1 = int(input(\"Digite um número: \"))\n",
        "  num2 = int(input(\"Digite outro número: \"))\n",
        "  retorno=(somar(num1, num2))\n",
        "  resultado.append(retorno)\n",
        "  print(resultado)"
      ],
      "metadata": {
        "colab": {
          "base_uri": "https://localhost:8080/"
        },
        "id": "Yb7DYSYIhPjw",
        "outputId": "3c09a61b-a171-4ab0-a370-553eb0e5aa74"
      },
      "execution_count": 15,
      "outputs": [
        {
          "output_type": "stream",
          "name": "stdout",
          "text": [
            "Digite um número: 2\n",
            "Digite outro número: 2\n",
            "[4]\n",
            "Digite um número: 2\n",
            "Digite outro número: 2\n",
            "[4, 4]\n",
            "Digite um número: 2\n",
            "Digite outro número: 2\n",
            "[4, 4, 4]\n"
          ]
        }
      ]
    }
  ]
}