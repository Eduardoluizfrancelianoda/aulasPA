{
  "nbformat": 4,
  "nbformat_minor": 0,
  "metadata": {
    "colab": {
      "provenance": [],
      "authorship_tag": "ABX9TyPL0Jy8Ao0qtwVea4AYmvrz",
      "include_colab_link": true
    },
    "kernelspec": {
      "name": "python3",
      "display_name": "Python 3"
    },
    "language_info": {
      "name": "python"
    }
  },
  "cells": [
    {
      "cell_type": "markdown",
      "metadata": {
        "id": "view-in-github",
        "colab_type": "text"
      },
      "source": [
        "<a href=\"https://colab.research.google.com/github/Eduardoluizfrancelianoda/aulasPA/blob/main/desafiosla%C3%A7osderepeti%C3%A7%C3%A3o.ipynb\" target=\"_parent\"><img src=\"https://colab.research.google.com/assets/colab-badge.svg\" alt=\"Open In Colab\"/></a>"
      ]
    },
    {
      "cell_type": "code",
      "execution_count": 15,
      "metadata": {
        "colab": {
          "base_uri": "https://localhost:8080/"
        },
        "id": "qDlwoVY3e9XZ",
        "outputId": "7775abe4-5092-45b4-adbd-edc8e983072c"
      },
      "outputs": [
        {
          "output_type": "stream",
          "name": "stdout",
          "text": [
            "1,2,3,4,5,6,7,8,9,10,\n",
            "1\n",
            "2\n",
            "3\n",
            "4\n",
            "5\n",
            "6\n",
            "7\n",
            "8\n",
            "9\n",
            "10\n"
          ]
        }
      ],
      "source": [
        "#contador de um a dez utilizando laços for\n",
        "\n",
        "for i in range(1,11):\n",
        "  print(i,end=',')"
      ]
    },
    {
      "cell_type": "code",
      "source": [
        "#contador de um a dez utilizando laços while\n",
        "a=0\n",
        "while a<10:\n",
        "  a+=1\n",
        "  print(a)"
      ],
      "metadata": {
        "colab": {
          "base_uri": "https://localhost:8080/"
        },
        "id": "xZ8Il2mMg_0v",
        "outputId": "4ffc6d30-4fc0-4bf6-9e2e-9d21cc076090"
      },
      "execution_count": 17,
      "outputs": [
        {
          "output_type": "stream",
          "name": "stdout",
          "text": [
            "1\n",
            "2\n",
            "3\n",
            "4\n",
            "5\n",
            "6\n",
            "7\n",
            "8\n",
            "9\n",
            "10\n"
          ]
        }
      ]
    },
    {
      "cell_type": "code",
      "source": [
        "#contador acima de 1 até 10 só que agora imprimindo a seguinte mensagem \"volta n1==>0 volta n2==>2\n",
        "for i in range (11):\n",
        "  print(f'volta n{i+1} ==> {i} ')"
      ],
      "metadata": {
        "colab": {
          "base_uri": "https://localhost:8080/"
        },
        "id": "vDeMRVcnhS0Y",
        "outputId": "6e566822-7768-4f0b-8418-7d263d18d154"
      },
      "execution_count": 20,
      "outputs": [
        {
          "output_type": "stream",
          "name": "stdout",
          "text": [
            "volta n1 ==> 0 \n",
            "volta n2 ==> 1 \n",
            "volta n3 ==> 2 \n",
            "volta n4 ==> 3 \n",
            "volta n5 ==> 4 \n",
            "volta n6 ==> 5 \n",
            "volta n7 ==> 6 \n",
            "volta n8 ==> 7 \n",
            "volta n9 ==> 8 \n",
            "volta n10 ==> 9 \n",
            "volta n11 ==> 10 \n"
          ]
        }
      ]
    },
    {
      "cell_type": "markdown",
      "source": [
        "faça um contador acima de 0 ate 10 so que agora imprimindo a seguinte mensagem:\n",
        "volta n1==>0==>PAR\n",
        "volta n2==>1==>\n",
        "volta n3==>2==>PAR"
      ],
      "metadata": {
        "id": "9elu5FGMkE3e"
      }
    },
    {
      "cell_type": "code",
      "source": [
        "for i in range(11):\n",
        "  if i%2==0:\n",
        "    print(f'volta n{i+1} ==> {i} ==> PAR')\n",
        "  else:\n",
        "    print(f'volta n{i+1} ==> {i} ==>')"
      ],
      "metadata": {
        "colab": {
          "base_uri": "https://localhost:8080/"
        },
        "id": "EksgG1SzkgxE",
        "outputId": "42e8b5a9-8ca6-4d2f-90d8-664e8d600120"
      },
      "execution_count": 21,
      "outputs": [
        {
          "output_type": "stream",
          "name": "stdout",
          "text": [
            "volta n1 ==> 0 ==> PAR\n",
            "volta n2 ==> 1 ==>\n",
            "volta n3 ==> 2 ==> PAR\n",
            "volta n4 ==> 3 ==>\n",
            "volta n5 ==> 4 ==> PAR\n",
            "volta n6 ==> 5 ==>\n",
            "volta n7 ==> 6 ==> PAR\n",
            "volta n8 ==> 7 ==>\n",
            "volta n9 ==> 8 ==> PAR\n",
            "volta n10 ==> 9 ==>\n",
            "volta n11 ==> 10 ==> PAR\n"
          ]
        }
      ]
    },
    {
      "cell_type": "markdown",
      "source": [
        "um programa que mostre a soma de 1 até 100"
      ],
      "metadata": {
        "id": "V-CEvtKClZ7k"
      }
    },
    {
      "cell_type": "code",
      "source": [
        "soma=0\n",
        "for a in range(1,101):\n",
        "  soma += a\n",
        "print(f'total=={soma}')"
      ],
      "metadata": {
        "colab": {
          "base_uri": "https://localhost:8080/"
        },
        "id": "yJvNvHVflfgX",
        "outputId": "697274cc-786d-44b4-ea7f-94b17329570c"
      },
      "execution_count": 23,
      "outputs": [
        {
          "output_type": "stream",
          "name": "stdout",
          "text": [
            "total==5050\n"
          ]
        }
      ]
    },
    {
      "cell_type": "markdown",
      "source": [
        "um programaque receba um numero inteiro do usuario e informe se esse numero é primo ou não"
      ],
      "metadata": {
        "id": "WkgIJO1QmhQx"
      }
    },
    {
      "cell_type": "code",
      "source": [
        "from re import I\n",
        "num = int(input(\"insira um numero \"))\n",
        "zeros=0\n",
        "\n",
        "if (num==0) or (num<0):\n",
        "  print(\"numero invalido\")\n",
        "else:\n",
        "  if (num==0) or(num==1):\n",
        "    print(\"0 e 1 nao pode ser primo\")\n",
        "  else:\n",
        "    for i in range(1,num+1):\n",
        "      res= num%i\n",
        "      print(f'resto da divisão de {num} por {i} = {res}')\n",
        "      if res ==0:\n",
        "        zeros +=1\n",
        "        print(f'quantidade de restos são {zeros}')\n",
        "        if zeros >=3:\n",
        "          print(\"isso não numero primo\")\n",
        "        else:\n",
        "          print(\"primo\")"
      ],
      "metadata": {
        "colab": {
          "base_uri": "https://localhost:8080/"
        },
        "id": "574yeS4tnJw_",
        "outputId": "aabb7e13-7074-4e61-c8b2-be70f82f8821"
      },
      "execution_count": 47,
      "outputs": [
        {
          "output_type": "stream",
          "name": "stdout",
          "text": [
            "insira um numero 13\n",
            "resto da divisão de 13 por 1 = 0\n",
            "quantidade de restos são 1\n",
            "primo\n",
            "resto da divisão de 13 por 2 = 1\n",
            "resto da divisão de 13 por 3 = 1\n",
            "resto da divisão de 13 por 4 = 1\n",
            "resto da divisão de 13 por 5 = 3\n",
            "resto da divisão de 13 por 6 = 1\n",
            "resto da divisão de 13 por 7 = 6\n",
            "resto da divisão de 13 por 8 = 5\n",
            "resto da divisão de 13 por 9 = 4\n",
            "resto da divisão de 13 por 10 = 3\n",
            "resto da divisão de 13 por 11 = 2\n",
            "resto da divisão de 13 por 12 = 1\n",
            "resto da divisão de 13 por 13 = 0\n",
            "quantidade de restos são 2\n",
            "primo\n"
          ]
        }
      ]
    },
    {
      "cell_type": "markdown",
      "source": [
        "um programa que imprima o n-esimo elemento de uma serie de fibonacci. esse valor será digitado pelo usuario. exemplo:\n",
        "\n",
        "numero= 4\n",
        "\n",
        "saída: 1 1 2 3 5\n",
        "\n",
        "numero:5\n",
        "\n",
        "saída: 1 1 2 3 5 8"
      ],
      "metadata": {
        "id": "kP8eQCGXxk44"
      }
    },
    {
      "cell_type": "code",
      "source": [
        "n1= int(input(\"quantos termos vc quer na sequencia de fibonacci \"))\n",
        "num_anterior=0\n",
        "num_atual=1\n",
        "num_proximo=0\n",
        "soma=0\n",
        "for i in range(1,n1+1):\n",
        "  num_proximo=num_atual+num_anterior\n",
        "  num_anterior=num_atual\n",
        "  num_atual=num_proximo\n",
        "  soma+=num_anterior\n",
        "print(soma)"
      ],
      "metadata": {
        "colab": {
          "base_uri": "https://localhost:8080/"
        },
        "id": "4O39X-FKzEby",
        "outputId": "f2b54c4a-c6a1-4ac0-c327-56da7a65365b"
      },
      "execution_count": 66,
      "outputs": [
        {
          "output_type": "stream",
          "name": "stdout",
          "text": [
            "quantos termos vc quer na sequencia de fibonacci 6\n",
            "20\n"
          ]
        }
      ]
    }
  ]
}