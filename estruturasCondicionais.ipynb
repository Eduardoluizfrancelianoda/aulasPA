{
  "nbformat": 4,
  "nbformat_minor": 0,
  "metadata": {
    "colab": {
      "provenance": [],
      "authorship_tag": "ABX9TyNRTWpkAXT15VnsdDjjQxjl",
      "include_colab_link": true
    },
    "kernelspec": {
      "name": "python3",
      "display_name": "Python 3"
    },
    "language_info": {
      "name": "python"
    }
  },
  "cells": [
    {
      "cell_type": "markdown",
      "metadata": {
        "id": "view-in-github",
        "colab_type": "text"
      },
      "source": [
        "<a href=\"https://colab.research.google.com/github/Eduardoluizfrancelianoda/aulasPA/blob/main/estruturasCondicionais.ipynb\" target=\"_parent\"><img src=\"https://colab.research.google.com/assets/colab-badge.svg\" alt=\"Open In Colab\"/></a>"
      ]
    },
    {
      "cell_type": "code",
      "execution_count": 2,
      "metadata": {
        "colab": {
          "base_uri": "https://localhost:8080/"
        },
        "id": "lKT-GqxRZuAq",
        "outputId": "ab75274a-8f18-4dc4-f95e-4cf7dcaf5289"
      },
      "outputs": [
        {
          "output_type": "stream",
          "name": "stdout",
          "text": [
            "digite a primeira nota: 2\n",
            "digite a segunda nota: 2\n",
            "digite a terceira nota: 2\n",
            "2.0\n",
            "fim do programa\n"
          ]
        }
      ],
      "source": [
        "# avaliar se um aluno foi aprovado caso sua media de 3 notas seja maior ou igual a 5\n",
        "\n",
        "nota_1= float(input(\"digite a primeira nota: \"))\n",
        "nota_2= float(input(\"digite a segunda nota: \"))\n",
        "nota_3= float(input(\"digite a terceira nota: \"))\n",
        "\n",
        "media= (nota_1 + nota_2 + nota_3)/3\n",
        "\n",
        "if (media >= 5):\n",
        "  print(\"aprovado\")\n",
        "print(\"fim do programa\")"
      ]
    },
    {
      "cell_type": "code",
      "source": [
        "#avaliar se um aluno foi aprovado, reprovado ou recuperação\n",
        "#aprovado media > 5\n",
        "#reprovado media < 4\n",
        "#recuperação media entre 4 e 5\n",
        "\n",
        "nota_1= float(input(\"digite a primeira nota: \"))\n",
        "nota_2= float(input(\"digite a segunda nota: \"))\n",
        "nota_3= float(input(\"digite a terceira nota: \"))\n",
        "\n",
        "media= (nota_1 + nota_2 + nota_3)/3\n",
        "\n",
        "if (media >= 5):\n",
        "  print(\"aprovado\")\n",
        "else:\n",
        "  if (media<4):\n",
        "    print(\"reprovado\")\n",
        "  else:\n",
        "    print(\"recuperação\")\n",
        "print(\"fim do programa\")"
      ],
      "metadata": {
        "colab": {
          "base_uri": "https://localhost:8080/"
        },
        "id": "vh38c_0SfNG9",
        "outputId": "d1d5cdcb-2ff7-461a-aee2-da722db91722"
      },
      "execution_count": 8,
      "outputs": [
        {
          "output_type": "stream",
          "name": "stdout",
          "text": [
            "digite a primeira nota: 4.5\n",
            "digite a segunda nota: 4.5\n",
            "digite a terceira nota: 4.5\n",
            "recuperação\n",
            "fim do programa\n"
          ]
        }
      ]
    },
    {
      "cell_type": "code",
      "source": [
        "if (media > 5):\n",
        "  print(\"APROVADO\")\n",
        "else:\n",
        "  if (media < 4):\n",
        "    print(\"REPROVADO\")\n",
        "  else:\n",
        "    print(\"recuperação\")\n",
        "print(\"fim do programa\")"
      ],
      "metadata": {
        "colab": {
          "base_uri": "https://localhost:8080/"
        },
        "id": "GvAuVC5KjBp1",
        "outputId": "d3db6af3-e04f-4c55-d70a-65f8a2a768a9"
      },
      "execution_count": 9,
      "outputs": [
        {
          "output_type": "stream",
          "name": "stdout",
          "text": [
            "recuperação\n",
            "fim do programa\n"
          ]
        }
      ]
    }
  ]
}